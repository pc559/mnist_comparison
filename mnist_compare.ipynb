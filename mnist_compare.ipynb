{
 "cells": [
  {
   "cell_type": "markdown",
   "id": "august-curve",
   "metadata": {},
   "source": [
    "Classifying handwritten digits (work in progress!!)\n",
    "-----\n",
    "The MNIST dataset contains **labelled images of handwritten digits** - one common machine learning exercise\n",
    "is to use this dataset to train a model to recognise digits. In this write-up we will see why,\n",
    "given the difficulty of the task the results are extremely impressive!\n",
    "\n",
    "In the course of implementing a few models to acomplish this task,\n",
    "we will talk about hyperparameter tuning,\n",
    "comparing models and comparing some basic methods for **reducing the dimensionality** of the dataset.\n",
    "\n",
    "Why would we want to reduce the dimensionality of our dataset? Surely losing data is a bad thing?\n",
    "There are two primary reasons. One is **robustness to overfitting** - if we can drop\n",
    "some of the noise without losing signal, we will improve the generality of our model.\n",
    "Another reason is the practicalities of training, providing the model with a smaller dataset\n",
    "should lead to **faster training convergence**.\n",
    "\n",
    "Models\n",
    "-----\n",
    "We will compare the following models in terms of both accuracy and speed.\n",
    "* **MLPClassifier**, a multi-layer perceptron. We will use a simple neural net with only one hidden layer.\n",
    "* **LinearSVC**, a support vector classifier with a linear kernel.\n",
    "* **XGBoost**, a gradient boosted decision tree. https://machinelearningmastery.com/gentle-introduction-xgboost-applied-machine-learning/\n",
    "\n",
    "Confidence checking\n",
    "-----\n",
    "A large fraction of the time spent learning a new tool is actually spent\n",
    "learning to debug that tool!\n",
    "When the model doesn't do what we expect, we need to know what to check.\n",
    "In the spirit of that, we will implement\n",
    "some of the confidence checks mentioned in the excellent blog post\n",
    "https://karpathy.github.io/2019/04/25/recipe/\n",
    ".\n",
    "* **Randomised labels** - How does our model behave when the labels are randomised? This dataset will be all noise and no signal, so will be a measure of the ability of our model to overfit the data. \n",
    "* **The loss curve** - How does the loss evolve as the model trains? Does it decrease, as it should? Any large spikes from outlier batches?\n",
    "* **Purposeful overfitting** - If we train our small datasets we should be able to fit it perfectly. We won't do this, though. How should we feel about the fact our training score is 100%?\n",
    "* **Visualising features** - Understanding the edges/features picked up by the network, the preprocessing.\n",
    "\n",
    "Preprocessing\n",
    "------\n",
    "* **None** - This dataset is small enough that we can just train on all the data. How well does this work, does it overfit on the noise?\n",
    "* **Random** - If we randomise the labels, can the model achieve a good score on the training set?\n",
    "* **Principal component analysis** - PCA extracts the features that explain the majority of the variance, how well do these features function as predictors for the digits? \n",
    "* **Legendre decomposition** - We can expand the pixel image in a two-dimensional Legendre polynomial basis. How well do the coefficients of this expansion function as predictors? Unlike PCA, this basis is not decided by the basis set. This may reduce its predictive ability, but should also increase robustness to noise. \n",
    "\n",
    "There are multiple important differences between PCA features and Legendre coefficient features.\n",
    "For one thing, the PCA will converge to a perfect reconstruction of the image as the number of components approaches the dimension of the data,\n",
    "whereas the Legendre decomposition will not - the Legendre decomposition will be especially bad at reconstructing sharp edges.\n",
    "However, **the processed features do not actually have to be good at reconstructing the original features** - it just has to preserve the information that distinguishes the digits.\n",
    "\n",
    "To do\n",
    "-----\n",
    "* What is the state of the art?\n",
    "* Unsupervised MNIST, how many real classes? (Do eg kmeans, increasing the number of clusters, print Counter of each cluster.)\n",
    "* Interpret confusion matrix, score(s), loss curve, epoch vs iteration (does it use all the data?)\n",
    "* K-fold cross-validation\n",
    "* How should we feel about the fact our training score is 100%?\n",
    "* Fourier basis? Read the literature."
   ]
  },
  {
   "cell_type": "code",
   "execution_count": 1,
   "id": "random-writing",
   "metadata": {
    "jupyter": {
     "source_hidden": true
    }
   },
   "outputs": [],
   "source": [
    "import numpy as np\n",
    "import pandas as pd\n",
    "import scipy as sp\n",
    "import sklearn as sk\n",
    "import matplotlib.pyplot as plt\n",
    "from numpy.random import permutation\n",
    "from sklearn.datasets import fetch_openml\n",
    "from sklearn.decomposition import PCA\n",
    "from sklearn.ensemble import GradientBoostingClassifier\n",
    "from scipy.integrate import quad\n",
    "from sklearn.model_selection import train_test_split\n",
    "from sklearn.metrics import confusion_matrix, accuracy_score\n",
    "from sklearn.neural_network import MLPClassifier\n",
    "from sklearn.pipeline import Pipeline\n",
    "from sklearn.preprocessing import StandardScaler, LabelEncoder\n",
    "from scipy.special import eval_legendre\n",
    "from sklearn.svm import SVC, LinearSVC\n",
    "from xgboost import XGBClassifier\n",
    "from time import time\n",
    "from collections import Counter\n",
    "from IPython.display import display\n",
    "pd.options.display.float_format = '{:.2f}'.format"
   ]
  },
  {
   "cell_type": "code",
   "execution_count": 2,
   "id": "assigned-awareness",
   "metadata": {
    "jupyter": {
     "source_hidden": true
    }
   },
   "outputs": [],
   "source": [
    "name = 'mnist_784'\n",
    "mnist = fetch_openml(name, data_home='~/scikit_learn_data/openml/'+name)\n",
    "N1 = 28"
   ]
  },
  {
   "cell_type": "markdown",
   "id": "general-polls",
   "metadata": {},
   "source": [
    "Let's see what kind of data we're dealing with! We'll plot the images of the first few digits, and check the count of the labels."
   ]
  },
  {
   "cell_type": "code",
   "execution_count": 3,
   "id": "realistic-google",
   "metadata": {
    "jupyter": {
     "source_hidden": true
    }
   },
   "outputs": [
    {
     "data": {
      "image/png": "[encoded data removed]",
      "text/plain": [
       "<Figure size 864x432 with 18 Axes>"
      ]
     },
     "metadata": {
      "needs_background": "light"
     },
     "output_type": "display_data"
    },
    {
     "name": "stdout",
     "output_type": "stream",
     "text": [
      "255.0\n",
      "0.0\n",
      "(70000, 784)\n",
      "Counter({'1': 7877, '7': 7293, '3': 7141, '2': 6990, '9': 6958, '0': 6903, '6': 6876, '8': 6825, '4': 6824, '5': 6313})\n"
     ]
    }
   ],
   "source": [
    "fig, axs = plt.subplots(3,6,figsize=(12,6))\n",
    "axs = axs.flatten()\n",
    "N_plot = len(axs)\n",
    "for i in range(N_plot):\n",
    "    axs[i].imshow(mnist.data.values[i].reshape((N1,N1)))\n",
    "plt.show()\n",
    "print(np.max(mnist.data.values))\n",
    "print(np.min(mnist.data.values))\n",
    "print(np.shape(mnist.data.values))\n",
    "print(Counter(mnist['target']))"
   ]
  },
  {
   "cell_type": "markdown",
   "id": "behind-township",
   "metadata": {},
   "source": [
    "The dataset consists of 70000 greyscale images. The images are encoded as 28 by 28 pixels, taking values between 0 and 255. The labels are characters representing the digits 0 to 9, and we can see that there are **roughly equal counts for each label** in the dataset - there are more 1's and fewer 5's, but the counts are all around 7000.\n",
    "\n",
    "Let's split up the dataset for training and testing. Two sets won't suffice, however - we'll also need a set for hyperparameter tuning, which we'll call the validation set.\n",
    "We'll split the dataset up into a **training set** with half the data, and a **validation set** and **test set** with a quarter of the data each.\n",
    "The hyperparameters we'll tune are the features that are fed into the model.\n",
    "The validation set cannot give us a true estimate of the error, since it will be biased to seem\n",
    "more accurate than it actually is.\n",
    "When we evaluate the score on the test set for each model, at the very end, that will give us an\n",
    "**estimate of the error** of the model."
   ]
  },
  {
   "cell_type": "code",
   "execution_count": 4,
   "id": "authentic-release",
   "metadata": {
    "jupyter": {
     "source_hidden": true
    }
   },
   "outputs": [
    {
     "name": "stdout",
     "output_type": "stream",
     "text": [
      "[(35000, 784), (17500, 784), (17500, 784)]\n"
     ]
    }
   ],
   "source": [
    "X = mnist['data'].values\n",
    "y = mnist['target']\n",
    "test_size = 0.5\n",
    "X_train, X_nottrain, y_train, y_nottrain = train_test_split(X, y, test_size=test_size, random_state=42)\n",
    "X_valid, X_test, y_valid, y_test = train_test_split(X_nottrain, y_nottrain, test_size=0.5, random_state=43)\n",
    "print([np.shape(grp) for grp in [X_train, X_valid, X_test]])"
   ]
  },
  {
   "cell_type": "markdown",
   "id": "italic-capital",
   "metadata": {},
   "source": [
    "The main model we'll test is a basic MLP with a **single hidden layer with 120 nodes**. We'll use dectified linear units (ReLU's) as activation functions. We choose our learning rate to be 1e-4, to give us nice loss curves later."
   ]
  },
  {
   "cell_type": "code",
   "execution_count": 5,
   "id": "typical-maintenance",
   "metadata": {
    "jupyter": {
     "source_hidden": true
    }
   },
   "outputs": [],
   "source": [
    "hidden_layer_sizes = [120]\n",
    "method_name, method = 'mlp', MLPClassifier\n",
    "method_params = {'hidden_layer_sizes':hidden_layer_sizes, 'activation':'relu', 'random_state':16, 'tol':1e-6, 'learning_rate_init':1000e-4, 'max_iter':1000}\n",
    "N_samples_cut = {LinearSVC.__name__:100, XGBClassifier.__name__:300, GradientBoostingClassifier.__name__:50}\n",
    "\n",
    "# https://scikit-learn.org/stable/modules/generated/sklearn.neural_network.MLPClassifier.html\n",
    "# \"max_iter: int, default=200\n",
    "# Maximum number of iterations. The solver iterates until convergence (determined by ‘tol’) or this number of iterations.\n",
    "# For stochastic solvers (‘sgd’, ‘adam’), note that this determines the number of epochs\n",
    "# (how many times each data point will be used), not the number of gradient steps.\""
   ]
  },
  {
   "cell_type": "markdown",
   "id": "undefined-thunder",
   "metadata": {},
   "source": [
    "We'll use PCA to pick out a set of features which should hopefully capture the data well. This will help by reducing the noise, making the model more robust to overfitting."
   ]
  },
  {
   "cell_type": "code",
   "execution_count": 6,
   "id": "stunning-arabic",
   "metadata": {
    "jupyter": {
     "source_hidden": true
    }
   },
   "outputs": [
    {
     "data": {
      "text/html": [
       "<div>\n",
       "<style scoped>\n",
       "    .dataframe tbody tr th:only-of-type {\n",
       "        vertical-align: middle;\n",
       "    }\n",
       "\n",
       "    .dataframe tbody tr th {\n",
       "        vertical-align: top;\n",
       "    }\n",
       "\n",
       "    .dataframe thead th {\n",
       "        text-align: right;\n",
       "    }\n",
       "</style>\n",
       "<table border=\"1\" class=\"dataframe\">\n",
       "  <thead>\n",
       "    <tr style=\"text-align: right;\">\n",
       "      <th></th>\n",
       "      <th>Features</th>\n",
       "      <th>Validation score</th>\n",
       "      <th>Train score</th>\n",
       "      <th>Time taken [s]</th>\n",
       "    </tr>\n",
       "  </thead>\n",
       "  <tbody>\n",
       "    <tr>\n",
       "      <th>0</th>\n",
       "      <td>1.00</td>\n",
       "      <td>0.30</td>\n",
       "      <td>0.29</td>\n",
       "      <td>10.13</td>\n",
       "    </tr>\n",
       "    <tr>\n",
       "      <th>1</th>\n",
       "      <td>9.00</td>\n",
       "      <td>0.83</td>\n",
       "      <td>0.83</td>\n",
       "      <td>8.56</td>\n",
       "    </tr>\n",
       "    <tr>\n",
       "      <th>2</th>\n",
       "      <td>25.00</td>\n",
       "      <td>0.88</td>\n",
       "      <td>0.89</td>\n",
       "      <td>12.31</td>\n",
       "    </tr>\n",
       "    <tr>\n",
       "      <th>3</th>\n",
       "      <td>49.00</td>\n",
       "      <td>0.85</td>\n",
       "      <td>0.86</td>\n",
       "      <td>24.96</td>\n",
       "    </tr>\n",
       "    <tr>\n",
       "      <th>4</th>\n",
       "      <td>81.00</td>\n",
       "      <td>0.96</td>\n",
       "      <td>0.98</td>\n",
       "      <td>40.59</td>\n",
       "    </tr>\n",
       "    <tr>\n",
       "      <th>5</th>\n",
       "      <td>121.00</td>\n",
       "      <td>0.97</td>\n",
       "      <td>1.00</td>\n",
       "      <td>47.06</td>\n",
       "    </tr>\n",
       "    <tr>\n",
       "      <th>6</th>\n",
       "      <td>169.00</td>\n",
       "      <td>0.96</td>\n",
       "      <td>0.99</td>\n",
       "      <td>42.33</td>\n",
       "    </tr>\n",
       "    <tr>\n",
       "      <th>7</th>\n",
       "      <td>225.00</td>\n",
       "      <td>0.96</td>\n",
       "      <td>0.99</td>\n",
       "      <td>33.99</td>\n",
       "    </tr>\n",
       "    <tr>\n",
       "      <th>8</th>\n",
       "      <td>289.00</td>\n",
       "      <td>0.96</td>\n",
       "      <td>0.99</td>\n",
       "      <td>41.13</td>\n",
       "    </tr>\n",
       "    <tr>\n",
       "      <th>9</th>\n",
       "      <td>361.00</td>\n",
       "      <td>0.96</td>\n",
       "      <td>0.99</td>\n",
       "      <td>44.60</td>\n",
       "    </tr>\n",
       "    <tr>\n",
       "      <th>10</th>\n",
       "      <td>441.00</td>\n",
       "      <td>0.95</td>\n",
       "      <td>0.99</td>\n",
       "      <td>42.12</td>\n",
       "    </tr>\n",
       "  </tbody>\n",
       "</table>\n",
       "</div>"
      ],
      "text/plain": [
       "    Features  Validation score  Train score  Time taken [s]\n",
       "0       1.00              0.30         0.29           10.13\n",
       "1       9.00              0.83         0.83            8.56\n",
       "2      25.00              0.88         0.89           12.31\n",
       "3      49.00              0.85         0.86           24.96\n",
       "4      81.00              0.96         0.98           40.59\n",
       "5     121.00              0.97         1.00           47.06\n",
       "6     169.00              0.96         0.99           42.33\n",
       "7     225.00              0.96         0.99           33.99\n",
       "8     289.00              0.96         0.99           41.13\n",
       "9     361.00              0.96         0.99           44.60\n",
       "10    441.00              0.95         0.99           42.12"
      ]
     },
     "execution_count": 6,
     "metadata": {},
     "output_type": "execute_result"
    }
   ],
   "source": [
    "pca_results = []\n",
    "display_cols = ['Features','Validation score','Train score','Time taken [s]']\n",
    "for sqrt_n_components in range(1,22,2):\n",
    "    n_components = sqrt_n_components**2\n",
    "    t1 = time()\n",
    "    pca = PCA(n_components=n_components, random_state=42)\n",
    "    pca_pipe = Pipeline([('scaler', StandardScaler()), ('pca', pca), (method_name, method(**method_params))])\n",
    "    pca_pipe.fit(X_train, y_train)\n",
    "    t2 = time()\n",
    "    \n",
    "    score_valid = accuracy_score(y_valid, pca_pipe.predict(X_valid))\n",
    "    score_train = accuracy_score(y_train, pca_pipe.predict(X_train))\n",
    "    pca_results.append([n_components, score_valid, score_train, t2-t1])\n",
    "    #print(n_components, score_valid, score_train, t2-t1, sep='\\t', flush=True)\n",
    "pca_results = np.array(pca_results)\n",
    "pd.DataFrame(pca_results, columns=display_cols)"
   ]
  },
  {
   "cell_type": "markdown",
   "id": "expressed-validity",
   "metadata": {},
   "source": [
    "Let's examine the **confusion matrix** and **loss curve** for the model with 441 features."
   ]
  },
  {
   "cell_type": "code",
   "execution_count": 7,
   "id": "alternate-refund",
   "metadata": {
    "jupyter": {
     "source_hidden": true
    }
   },
   "outputs": [
    {
     "name": "stdout",
     "output_type": "stream",
     "text": [
      "[0.98383372 0.97894196 0.90028011 0.94240542 0.96560197 0.93859649\n",
      " 0.97760358 0.94548458 0.94993895 0.9422543 ]\n"
     ]
    },
    {
     "data": {
      "image/png": "[encoded data removed]",
      "text/plain": [
       "<Figure size 432x288 with 1 Axes>"
      ]
     },
     "metadata": {
      "needs_background": "light"
     },
     "output_type": "display_data"
    },
    {
     "data": {
      "image/png": "[encoded data removed]",
      "text/plain": [
       "<Figure size 432x288 with 1 Axes>"
      ]
     },
     "metadata": {
      "needs_background": "light"
     },
     "output_type": "display_data"
    }
   ],
   "source": [
    "con = confusion_matrix(y_valid, pca_pipe.predict(X_valid), normalize='true')\n",
    "print(np.diag(con))\n",
    "plt.imshow(con)\n",
    "plt.title('Confusion matrix')\n",
    "plt.show()\n",
    "#for a in con:\n",
    "#    for b in a:\n",
    "#        print(round(b,3), end='\\t')\n",
    "#    print('')\n",
    "plt.plot(pca_pipe[method_name].loss_curve_)\n",
    "plt.title('Full dataset, loss curve')\n",
    "plt.show()"
   ]
  },
  {
   "cell_type": "markdown",
   "id": "careful-edinburgh",
   "metadata": {},
   "source": [
    "The confusion matrix seems pretty even, it doesn't look like the model is concentrating too much on any particular digit.\n",
    "The loss curve is smooth, giving us some hope that we have chosen our learning rate correctly.\n",
    "\n",
    "What if we train the same MLP using the full dataset?"
   ]
  },
  {
   "cell_type": "code",
   "execution_count": 8,
   "id": "dominant-marker",
   "metadata": {
    "jupyter": {
     "source_hidden": true
    }
   },
   "outputs": [
    {
     "data": {
      "text/html": [
       "<div>\n",
       "<style scoped>\n",
       "    .dataframe tbody tr th:only-of-type {\n",
       "        vertical-align: middle;\n",
       "    }\n",
       "\n",
       "    .dataframe tbody tr th {\n",
       "        vertical-align: top;\n",
       "    }\n",
       "\n",
       "    .dataframe thead th {\n",
       "        text-align: right;\n",
       "    }\n",
       "</style>\n",
       "<table border=\"1\" class=\"dataframe\">\n",
       "  <thead>\n",
       "    <tr style=\"text-align: right;\">\n",
       "      <th></th>\n",
       "      <th>Features</th>\n",
       "      <th>Validation score</th>\n",
       "      <th>Train score</th>\n",
       "      <th>Time taken [s]</th>\n",
       "    </tr>\n",
       "  </thead>\n",
       "  <tbody>\n",
       "    <tr>\n",
       "      <th>0</th>\n",
       "      <td>784</td>\n",
       "      <td>0.96</td>\n",
       "      <td>0.99</td>\n",
       "      <td>46.20</td>\n",
       "    </tr>\n",
       "  </tbody>\n",
       "</table>\n",
       "</div>"
      ],
      "text/plain": [
       "   Features  Validation score  Train score  Time taken [s]\n",
       "0       784              0.96         0.99           46.20"
      ]
     },
     "execution_count": 8,
     "metadata": {},
     "output_type": "execute_result"
    }
   ],
   "source": [
    "## # Full\n",
    "n_components = X_valid.shape[1]\n",
    "#print(n_components)\n",
    "t1 = time()\n",
    "full_pipe = Pipeline([('scaler', StandardScaler()), (method_name, method(**method_params))])\n",
    "full_pipe.fit(X_train, y_train)\n",
    "t2 = time()\n",
    "score_valid = accuracy_score(y_valid, full_pipe.predict(X_valid))\n",
    "score_train = accuracy_score(y_train, full_pipe.predict(X_train))\n",
    "full_result = [n_components, score_valid, score_train, t2-t1]\n",
    "#print('Features\\tValidation score\\tTrain score\\tTime taken [s]')\n",
    "#print(n_components, score_valid, score_train, t2-t1, sep='\\t', flush=True)\n",
    "display_cols = ['Features','Validation score','Train score','Time taken [s]']\n",
    "pd.DataFrame([full_result], columns=display_cols)"
   ]
  },
  {
   "cell_type": "markdown",
   "id": "painted-split",
   "metadata": {},
   "source": [
    "Using all the data leads to overfitting, and we see that the validation score isn't as good as what\n",
    "we found with fewer features. **Is Train perfect with better LR?**\n",
    "\n",
    "Let's compare **XGBClassifier**, **LinearSVC** and **GradientBoostingClassifier**.\n",
    "They are quite slow in comparison with the MLP, so **we will only train on a subset of the data**."
   ]
  },
  {
   "cell_type": "code",
   "execution_count": 10,
   "id": "imported-extraction",
   "metadata": {
    "jupyter": {
     "source_hidden": true
    }
   },
   "outputs": [
    {
     "name": "stdout",
     "output_type": "stream",
     "text": [
      "Using 300 training samples for XGBClassifier.\n",
      "Using 100 training samples for LinearSVC.\n",
      "Using 50 training samples for GradientBoostingClassifier.\n"
     ]
    },
    {
     "data": {
      "text/html": [
       "<div>\n",
       "<style scoped>\n",
       "    .dataframe tbody tr th:only-of-type {\n",
       "        vertical-align: middle;\n",
       "    }\n",
       "\n",
       "    .dataframe tbody tr th {\n",
       "        vertical-align: top;\n",
       "    }\n",
       "\n",
       "    .dataframe thead th {\n",
       "        text-align: right;\n",
       "    }\n",
       "</style>\n",
       "<table border=\"1\" class=\"dataframe\">\n",
       "  <thead>\n",
       "    <tr style=\"text-align: right;\">\n",
       "      <th></th>\n",
       "      <th>Method name</th>\n",
       "      <th>Samples</th>\n",
       "      <th>Validation score</th>\n",
       "      <th>Train score</th>\n",
       "      <th>Time taken [s]</th>\n",
       "    </tr>\n",
       "  </thead>\n",
       "  <tbody>\n",
       "    <tr>\n",
       "      <th>0</th>\n",
       "      <td>XGBClassifier</td>\n",
       "      <td>300</td>\n",
       "      <td>0.75</td>\n",
       "      <td>1.00</td>\n",
       "      <td>2.78</td>\n",
       "    </tr>\n",
       "    <tr>\n",
       "      <th>1</th>\n",
       "      <td>LinearSVC</td>\n",
       "      <td>100</td>\n",
       "      <td>0.51</td>\n",
       "      <td>1.00</td>\n",
       "      <td>0.26</td>\n",
       "    </tr>\n",
       "    <tr>\n",
       "      <th>2</th>\n",
       "      <td>GradientBoostingClassifier</td>\n",
       "      <td>50</td>\n",
       "      <td>0.44</td>\n",
       "      <td>1.00</td>\n",
       "      <td>4.66</td>\n",
       "    </tr>\n",
       "  </tbody>\n",
       "</table>\n",
       "</div>"
      ],
      "text/plain": [
       "                  Method name  Samples  Validation score  Train score  \\\n",
       "0               XGBClassifier      300              0.75         1.00   \n",
       "1                   LinearSVC      100              0.51         1.00   \n",
       "2  GradientBoostingClassifier       50              0.44         1.00   \n",
       "\n",
       "   Time taken [s]  \n",
       "0            2.78  \n",
       "1            0.26  \n",
       "2            4.66  "
      ]
     },
     "execution_count": 10,
     "metadata": {},
     "output_type": "execute_result"
    }
   ],
   "source": [
    "## # Move to end?\n",
    "## # Is there an even class distr after the cut?\n",
    "#'''\n",
    "methods = [XGBClassifier, LinearSVC, GradientBoostingClassifier]#, SVC]\n",
    "mthd_params = dict()\n",
    "mthd_params[LinearSVC.__name__] = {'max_iter':4000}\n",
    "mthd_params[XGBClassifier.__name__] = {'use_label_encoder':False, \"objective\":\"multi:softmax\",\"num_class\":10, \"eval_metric\":\"mlogloss\"}\n",
    "mthd_params[GradientBoostingClassifier.__name__] = {}\n",
    "\n",
    "## # Bad naming - need to clean up method vs mthd.\n",
    "mthd_results = []\n",
    "#print(help(XGBClassifier.score))\n",
    "#print('Method name\\tSamples\\tValidation score\\tTrain score\\tTime taken [s]')\n",
    "for mthd in methods:\n",
    "    #print(mthd.__name__, end='\\t', flush=True)\n",
    "    n_components = X_valid.shape[1]\n",
    "    t1 = time()\n",
    "    #print(np.shape(X_train[:100,:100]))\n",
    "    mthd_pipe = Pipeline([('scaler', StandardScaler()), (mthd.__name__, mthd(**mthd_params[mthd.__name__]))])\n",
    "    cut = N_samples_cut[mthd.__name__]\n",
    "    print(f'Using {cut} training samples for {mthd.__name__}.')\n",
    "    #print(X_train[:cut][:10].sum())\n",
    "    #print(y_train[:cut][:10].values)\n",
    "    if mthd.__name__=='XGBClassifier':\n",
    "        label_encoder = LabelEncoder()\n",
    "        label_encoder = label_encoder.fit(y_train[:cut].astype(\"category\"))\n",
    "        mthd_pipe.fit(X_train[:cut], label_encoder.transform(y_train[:cut].astype(\"category\")))\n",
    "    else:\n",
    "        mthd_pipe.fit(X_train[:cut], y_train[:cut])\n",
    "    t2 = time()\n",
    "    #print(mthd_pipe.predict(X_valid[:10]))\n",
    "    #print(y_valid[:10].values)\n",
    "    score_valid, score_train = 0., 0.\n",
    "    if mthd.__name__=='XGBClassifier':\n",
    "        score_valid = accuracy_score(label_encoder.transform(y_valid[:cut]), mthd_pipe.predict(X_valid[:cut]))\n",
    "        score_train = accuracy_score(label_encoder.transform(y_train[:cut]), mthd_pipe.predict(X_train[:cut]))\n",
    "    else:\n",
    "        score_valid = accuracy_score(y_valid[:cut], mthd_pipe.predict(X_valid[:cut]))\n",
    "        score_train = accuracy_score(y_train[:cut], mthd_pipe.predict(X_train[:cut]))\n",
    "    mthd_results.append([mthd.__name__, cut, score_valid, score_train, t2-t1])\n",
    "    #print(mthd.__name__, cut, score_valid, score_train, round((t2-t1),2), sep='\\t', flush=True)#'''\n",
    "\"\"\"XGBClassifier\t10000\t0.9529\t1.0\t80.43\"\"\"\n",
    "\"\"\"XGBClassifier\t30000\t0.9730857142857143\t1.0\t258.93\n",
    "LinearSVC\t10000\t0.8603\t0.9772\t49.94\n",
    "GradientBoostingClassifier\t5000\t0.919\t0.9992\t212.92\"\"\"\n",
    "display_cols = ['Method name','Samples','Validation score','Train score','Time taken [s]']\n",
    "pd.DataFrame(mthd_results, columns=display_cols)"
   ]
  },
  {
   "cell_type": "markdown",
   "id": "great-placement",
   "metadata": {},
   "source": [
    "What if we train the same MLP using the full dataset, with the target **labels randomly permuted**?\n",
    "There should be **no signal** here, the entire training set should be noise.\n",
    "If our model can achieve a good training score, that would mean our model is capable of extremely overfitting the data.\n",
    "By comparing with this example, we can have confidence that when using the correctly labelled data,\n",
    "our model is **really learning** something."
   ]
  },
  {
   "cell_type": "code",
   "execution_count": 12,
   "id": "ruled-people",
   "metadata": {
    "jupyter": {
     "source_hidden": true
    }
   },
   "outputs": [
    {
     "data": {
      "text/html": [
       "<div>\n",
       "<style scoped>\n",
       "    .dataframe tbody tr th:only-of-type {\n",
       "        vertical-align: middle;\n",
       "    }\n",
       "\n",
       "    .dataframe tbody tr th {\n",
       "        vertical-align: top;\n",
       "    }\n",
       "\n",
       "    .dataframe thead th {\n",
       "        text-align: right;\n",
       "    }\n",
       "</style>\n",
       "<table border=\"1\" class=\"dataframe\">\n",
       "  <thead>\n",
       "    <tr style=\"text-align: right;\">\n",
       "      <th></th>\n",
       "      <th>Features</th>\n",
       "      <th>Validation score</th>\n",
       "      <th>Train score</th>\n",
       "      <th>Time taken [s]</th>\n",
       "    </tr>\n",
       "  </thead>\n",
       "  <tbody>\n",
       "    <tr>\n",
       "      <th>0</th>\n",
       "      <td>784</td>\n",
       "      <td>0.11</td>\n",
       "      <td>0.12</td>\n",
       "      <td>32.69</td>\n",
       "    </tr>\n",
       "  </tbody>\n",
       "</table>\n",
       "</div>"
      ],
      "text/plain": [
       "   Features  Validation score  Train score  Time taken [s]\n",
       "0       784              0.11         0.12           32.69"
      ]
     },
     "execution_count": 12,
     "metadata": {},
     "output_type": "execute_result"
    }
   ],
   "source": [
    "## # Random (no signal, all noise)\n",
    "n_components = X_valid.shape[1]\n",
    "#print(n_components)\n",
    "t1 = time()\n",
    "rand_pipe = Pipeline([('scaler', StandardScaler()), (method_name, method(**method_params))])\n",
    "permed_train = permutation(y_train)\n",
    "rand_pipe.fit(X_train, permed_train)\n",
    "t2 = time()\n",
    "score_valid = accuracy_score(y_valid, rand_pipe.predict(X_valid))\n",
    "score_train = accuracy_score(permed_train, rand_pipe.predict(X_train))\n",
    "rand_result = [n_components, score_valid, score_train, t2-t1]\n",
    "display_cols = ['Features','Validation score','Train score','Time taken [s]']\n",
    "#print(n_components, score_valid, score_train, t2-t1, sep='\\t', flush=True)\n",
    "pd.DataFrame([rand_result], columns=display_cols)"
   ]
  },
  {
   "cell_type": "markdown",
   "id": "lonely-hardware",
   "metadata": {},
   "source": [
    "The training score of 0.62 is due to the ability of the model to overfit the data. As expected, the validation score is around 0.1,\n",
    "reflecting the even distribution of classes in the training and validation sets - **the model is essentially guessing**.\n",
    "\n",
    "Let's try using the coefficients of a 2D Legendre decomposition as features for our model."
   ]
  },
  {
   "cell_type": "code",
   "execution_count": null,
   "id": "marked-briefing",
   "metadata": {
    "jupyter": {
     "source_hidden": true
    }
   },
   "outputs": [],
   "source": [
    "N_pixel=28\n",
    "breaks = np.linspace(-1,1,N_pixel+1,endpoint=True)\n",
    "centers = np.array([np.mean(breaks[i:i+2]) for i in range(N_pixel)])\n",
    "\n",
    "Q = np.zeros((N_pixel, N_pixel))\n",
    "for n in range(N_pixel):\n",
    "    for i in range(N_pixel):\n",
    "        Q[n,i] = quad(lambda x,n=n:eval_legendre(n, x)*np.sqrt(n+0.5), breaks[i], breaks[i+1], epsabs=1.49e-08, epsrel=1.49e-08, limit=50)[0]\n",
    "\n",
    "leg_results = []\n",
    "X_train_sq = X_train.reshape((-1,28,28))\n",
    "X_valid_sq = X_valid.reshape((-1,28,28))\n",
    "#print('Features\\tValidation score\\tTrain score\\tTime taken [s]')\n",
    "for Nmax in range(1, 22, 2):\n",
    "    t1 = time()\n",
    "    ## # Converting pixel features to Legendre features,\n",
    "    ## # reducing dimensionality and smoothing.\n",
    "    ## # Training set:\n",
    "    leg_features = []\n",
    "    for to_fit in X_train_sq:\n",
    "        coeffs = np.einsum('ia,ba->ib', Q[:Nmax], to_fit)\n",
    "        coeffs = np.einsum('jb,ib->ij', Q[:Nmax], coeffs)\n",
    "        leg_features.append(coeffs.flatten())\n",
    "    leg_features = np.array(leg_features)\n",
    "\n",
    "    ## # Fitting the model\n",
    "    leg_pipe = Pipeline([('scaler', StandardScaler()), (method_name, method(**method_params))])\n",
    "    leg_pipe.fit(leg_features, y_train)\n",
    "    t2 = time()\n",
    "    \n",
    "    ## # Validation set:\n",
    "    leg_valid = []\n",
    "    for to_fit in X_valid_sq:\n",
    "        coeffs = np.einsum('ia,ba->ib', Q[:Nmax], to_fit)\n",
    "        coeffs = np.einsum('jb,ib->ij', Q[:Nmax], coeffs)\n",
    "        leg_valid.append(coeffs.flatten())\n",
    "    leg_valid = np.array(leg_valid)\n",
    "    score_valid = accuracy_score(y_valid, leg_pipe.predict(leg_valid))\n",
    "    score_train = accuracy_score(y_train, leg_pipe.predict(leg_features))\n",
    "    leg_results.append([Nmax**2, score_valid, score_train, t2-t1])\n",
    "    #print(Nmax**2, score_valid, score_train, t2-t1, sep='\\t', flush=True)\n",
    "display_cols = ['Features','Validation score','Train score','Time taken [s]']\n",
    "pd.DataFrame(leg_results, columns=display_cols)"
   ]
  },
  {
   "cell_type": "markdown",
   "id": "expired-franklin",
   "metadata": {},
   "source": [
    "Now we'll plot the scores and times as we increase the numbers of features.\n",
    "We'll also plot the loss curves of the models with the maximum number of features."
   ]
  },
  {
   "cell_type": "code",
   "execution_count": null,
   "id": "applied-insulation",
   "metadata": {
    "jupyter": {
     "source_hidden": true
    }
   },
   "outputs": [],
   "source": [
    "fig, axs = plt.subplots(1, 3, figsize=(18,6))\n",
    "axs[0].plot([r[0] for r in leg_results], [1-r[1] for r in leg_results], '-x', label='Valid leg')\n",
    "axs[0].plot([r[0] for r in leg_results], [1-r[2] for r in leg_results], '-x', label='Train leg')\n",
    "axs[1].plot([r[0] for r in leg_results], [r[3]/60 for r in leg_results], '-x', label='leg')\n",
    "axs[0].plot([r[0] for r in pca_results], [1-r[1] for r in pca_results], '-x', label='Valid pca')\n",
    "axs[0].plot([r[0] for r in pca_results], [1-r[2] for r in pca_results], '-x', label='Train pca')\n",
    "axs[1].plot([r[0] for r in pca_results], [r[3]/60 for r in pca_results], '-x', label='pca')\n",
    "xmin, xmax = min(pca_results[:,0]), max(pca_results[:,0])\n",
    "axs[0].hlines(1-full_result[1], xmin, xmax, linestyles='--', label='Valid full')\n",
    "axs[0].hlines(1-full_result[2], xmin, xmax, linestyles='-.', label='Train full')\n",
    "axs[1].hlines(full_result[3]/60, xmin, xmax, linestyles='--', label='full')\n",
    "axs[2].plot(pca_pipe[method_name].loss_curve_, '-', label='PCA')\n",
    "axs[2].plot(full_pipe[method_name].loss_curve_, '-', label='Full')\n",
    "axs[2].plot(rand_pipe[method_name].loss_curve_[:len(leg_pipe[method_name].loss_curve_)], '-', label='Rand (truncated)')\n",
    "axs[2].plot(leg_pipe[method_name].loss_curve_, '-', label='Leg')\n",
    "axs[2].set_yscale('log')\n",
    "axs[0].legend()\n",
    "axs[1].legend()\n",
    "axs[2].legend()\n",
    "axs[0].set_title('Training and Validation Score')\n",
    "axs[1].set_title('Training Time')\n",
    "axs[2].set_title('Training Loss Curve')\n",
    "axs[0].set_xlabel('Features')\n",
    "axs[0].set_ylabel('1-score')\n",
    "axs[1].set_xlabel('Features')\n",
    "axs[1].set_ylabel('Time [m]')\n",
    "axs[2].set_ylabel('Loss')\n",
    "axs[2].set_xlabel('Iteration')\n",
    "axs[0].set_ylim(-0.01, 0.05)\n",
    "axs[1].set_ylim(0, 3.)\n",
    "plt.show()\n",
    "print(f\"Final value of rand loss: {len(rand_pipe[method_name].loss_curve_)} iterations gives loss={round(rand_pipe[method_name].loss_curve_[-1],2)}.\")"
   ]
  },
  {
   "cell_type": "markdown",
   "id": "southeast-desire",
   "metadata": {},
   "source": [
    "The plots show there is **no significant difference in time taken to train**.\n",
    "The validation score curves show us that the Legendre features are more **robust to overfitting**,\n",
    "as it stays good with a larger number of features **QUANTIFY**.\n",
    "**Spikes in the loss curves** are due to having a learning rate that is too large.\n",
    "We have reduced our learning rate here to **1e-4** to remove these spikes, which are due to an **outlier minibatch**.\n",
    "**PCA and Legendre curves don't match the full result. We only go up to 21X21 features.**\n",
    "\n",
    "Using all the features leads to overfitting. PCA helps, but since the features are picked based on variance they might not actually hold the cluster information. Legendre coefficients as features cut out noise, but can also make use of more features before giving in to overfitting, hence achieve a better validation score (though the difference is only marginal, 97.55% compared to 97.07%).\n",
    "\n",
    "What about training our other models (XGBClassifier, LinearSVC, GradientBoostingClassifier) on the Legendre features,\n",
    "with Nmax=13?"
   ]
  },
  {
   "cell_type": "code",
   "execution_count": null,
   "id": "lyric-sharing",
   "metadata": {
    "jupyter": {
     "source_hidden": true
    }
   },
   "outputs": [],
   "source": [
    "X_train_sq = X_train.reshape((-1,28,28))\n",
    "X_valid_sq = X_valid.reshape((-1,28,28))\n",
    "Nmax = 13\n",
    "## # Converting pixel features to Legendre features,\n",
    "## # reducing dimensionality and smoothing.\n",
    "## # Training set:\n",
    "leg_train = []\n",
    "for to_fit in X_train_sq:\n",
    "    coeffs = np.einsum('ia,ba->ib', Q[:Nmax], to_fit)\n",
    "    coeffs = np.einsum('jb,ib->ij', Q[:Nmax], coeffs)\n",
    "    leg_train.append(coeffs.flatten())\n",
    "leg_train = np.array(leg_train)\n",
    "\n",
    "## # Validation set:\n",
    "leg_valid = []\n",
    "for to_fit in X_valid_sq:\n",
    "    coeffs = np.einsum('ia,ba->ib', Q[:Nmax], to_fit)\n",
    "    coeffs = np.einsum('jb,ib->ij', Q[:Nmax], coeffs)\n",
    "    leg_valid.append(coeffs.flatten())\n",
    "leg_valid = np.array(leg_valid)\n",
    "    \n",
    "#######\n",
    "\n",
    "methods = [XGBClassifier, LinearSVC, GradientBoostingClassifier]#, SVC]\n",
    "mthd_params = dict()\n",
    "mthd_params[LinearSVC.__name__] = {'max_iter':2000}\n",
    "mthd_params[XGBClassifier.__name__] = {'use_label_encoder':False, \"objective\":\"multi:softmax\",\"num_class\":10, \"eval_metric\":\"mlogloss\"}\n",
    "mthd_params[GradientBoostingClassifier.__name__] = {}\n",
    "## # Bad naming - need to clean up method vs mthd.\n",
    "mthd_results = []\n",
    "#print(XGBClassifier.score.__name__)\n",
    "for mthd in methods:\n",
    "    n_components = leg_valid.shape[1]\n",
    "    mthd_pipe = Pipeline([('scaler', StandardScaler()), (mthd.__name__, mthd(**mthd_params[mthd.__name__]))])\n",
    "    cut = N_samples_cut[mthd.__name__]\n",
    "    t1 = time()\n",
    "    if mthd.__name__=='XGBClassifier':\n",
    "        label_encoder = LabelEncoder()\n",
    "        label_encoder = label_encoder.fit(y_train[:cut].astype(\"category\"))\n",
    "        mthd_pipe.fit(leg_train[:cut], label_encoder.transform(y_train[:cut].astype(\"category\")))\n",
    "    else:\n",
    "        mthd_pipe.fit(leg_train[:cut], y_train[:cut])\n",
    "    t2 = time()\n",
    "    score_valid, score_train = 0., 0.\n",
    "    if mthd.__name__=='XGBClassifier':\n",
    "        score_valid = accuracy_score(label_encoder.transform(y_valid[:cut]), mthd_pipe.predict(leg_valid[:cut]))\n",
    "        score_train = accuracy_score(label_encoder.transform(y_train[:cut]), mthd_pipe.predict(leg_train[:cut]))\n",
    "    else:\n",
    "        score_valid = accuracy_score(y_valid[:cut], mthd_pipe.predict(leg_valid[:cut]))\n",
    "        score_train = accuracy_score(y_train[:cut], mthd_pipe.predict(leg_train[:cut]))\n",
    "    mthd_results.append([mthd.__name__, cut, score_valid, score_train, t2-t1])\n",
    "    #print(mthd.__name__, cut, score_valid, score_train, round((t2-t1),2), sep='\\t', flush=True)\n",
    "\"\"\"With no preprocessing:\n",
    "XGBClassifier\t30000\t0.9730857142857143\t1.0\t258.93\n",
    "LinearSVC\t10000\t0.8603\t0.9772\t49.94\n",
    "GradientBoostingClassifier\t5000\t0.919\t0.9992\t212.92\"\"\"\n",
    "display_cols = ['Method name', 'Samples', 'Validation score', 'Training score', 'Time taken']\n",
    "pd.DataFrame(mthd_results, columns=display_cols)"
   ]
  },
  {
   "cell_type": "markdown",
   "id": "uniform-tactics",
   "metadata": {},
   "source": [
    "We could also give more general orthogonal polynomials a try, for example polynomials orthogonal to some weight function on the space. This possibly already exists in the literature. We won't explore it any further here, though."
   ]
  },
  {
   "cell_type": "markdown",
   "id": "surgical-maple",
   "metadata": {},
   "source": [
    "Grand finale\n",
    "-----\n",
    "Comparison on the test set, after hyperparameter tuning on the validation set. Legendre Nmax=16(?) (call this Leg_opt) seems most robust to overfitting, so compare the four methods using Leg_opt and the full dataset. Can I train on Valid? Test gives estimate of prediction error.\n",
    "\n",
    "\"The error rate estimate of the final model on validation data will be biased (smaller than the true error rate) since the validation set is used to select the final model After assessing the final model on the test set, YOU MUST NOT tune the model any further!\" (also score on Train is biased, obv...)\n",
    "\n",
    "* XGBClassifier, with Leg_opt and full.\n",
    "* LinearSVC, with Leg_opt and full.\n",
    "* GradientBoostingClassifier, with Leg_opt and full.\n",
    "* MLP, with Leg_opt and full."
   ]
  },
  {
   "cell_type": "markdown",
   "id": "applicable-bradley",
   "metadata": {},
   "source": [
    "Bonus - visualising the processed features\n",
    "---\n",
    "\n",
    "How well do the Legendre/PCA decompositions capture the image?\n",
    "Recall that the processed features do not actually have to be able to reconstruct the image perfectly,\n",
    "as they only need sufficient infomation to distinguish between the digits. In fact, it is\n",
    "preferable if they can't reconstruct the noise!\n",
    "Still, let's take a look at what the features actually look like."
   ]
  },
  {
   "cell_type": "code",
   "execution_count": null,
   "id": "higher-snake",
   "metadata": {
    "jupyter": {
     "source_hidden": true
    }
   },
   "outputs": [],
   "source": [
    "## # 2d\n",
    "N_pixel = 28\n",
    "breaks = np.linspace(-1,1,N_pixel+1,endpoint=True)\n",
    "centers = np.array([np.mean(breaks[i:i+2]) for i in range(N_pixel)])\n",
    "mnist_ind = 53\n",
    "## # Careful to copy, not view!\n",
    "to_fit = np.copy(mnist['data'].values[mnist_ind].reshape((28,28)))\n",
    "to_fit -= to_fit.mean()\n",
    "to_fit = to_fit/to_fit.std()\n",
    "#to_fit = np.clip(to_fit, 0, 255)\n",
    "#print(breaks)\n",
    "def func(x, y):\n",
    "    x = np.clip(np.ceil((1+x)*N_pixel/2), 0, 27)\n",
    "    y = np.clip(np.ceil((1+y)*N_pixel/2), 0, 27)\n",
    "    temp = to_fit[y.astype(np.int64), x.astype(np.int64)]\n",
    "    return temp\n",
    "\n",
    "N_plot = 150\n",
    "xs = np.linspace(-1, 1, N_plot, endpoint=True)\n",
    "ys = np.linspace(-1, 1, N_plot, endpoint=True)\n",
    "f_xs, f_ys = np.meshgrid(xs, ys)[0].flatten(), np.meshgrid(xs, ys)[1].flatten()\n",
    "fns = func(f_xs, f_ys)\n",
    "#fig, ax = plt.subplots(1, 1, figsize=(12,6))\n",
    "#ax.imshow(fns.reshape((N_plot, N_plot)), label='real', extent=[-1, 1, -1, 1])\n",
    "#plt.show()\n",
    "\n",
    "N = 101\n",
    "## # We should already have this from above?\n",
    "Q = np.zeros((N_pixel, N_pixel))\n",
    "for n in range(N_pixel):\n",
    "    for i in range(N_pixel):\n",
    "        Q[n,i] = quad(lambda x,n=n:eval_legendre(n, x)*np.sqrt(n+0.5), breaks[i], breaks[i+1], epsabs=1.49e-08, epsrel=1.49e-08, limit=50)[0]\n",
    "recon_res = []\n",
    "for Nmax in range(20):#range(1,32,10):\n",
    "    coeffs = np.einsum('ia,ba->ib', Q[:Nmax], to_fit)\n",
    "    coeffs = np.einsum('jb,ib->ij', Q[:Nmax], coeffs)\n",
    "    #print(np.shape(coeffs))       \n",
    "    N_plot = 150\n",
    "    xs = np.linspace(-1, 1, N_plot, endpoint=True)\n",
    "    ys = np.linspace(-1, 1, N_plot, endpoint=True)\n",
    "    f_xs, f_ys = np.meshgrid(xs, ys)[0].flatten(), np.meshgrid(xs, ys)[1].flatten()\n",
    "    fns = func(f_xs, f_ys)\n",
    "    recomp = np.dot(coeffs, [eval_legendre(n, xs) for n in range(Nmax)])\n",
    "    #print(1, np.shape(recomp))\n",
    "    recomp = np.dot(recomp.T, [eval_legendre(n, xs) for n in range(Nmax)]).flatten()\n",
    "    #print(2, np.shape(recomp))\n",
    "    recon_res.append([Nmax, np.sum((recomp-fns)**2)/np.sum(fns**2)])\n",
    "recon_res = np.array(recon_res)\n",
    "#print('\\n',np.sum(coeffs**2))\n",
    "plt.title('Reconstruction score')\n",
    "plt.plot(recon_res[:,0], recon_res[:,1], '-x')\n",
    "plt.ylabel('Score')\n",
    "plt.xlabel('Nmax')\n",
    "plt.show()\n",
    "fig, axs = plt.subplots(1, 3, figsize=(18,6))\n",
    "axs[0].set_title(f'Leg {Nmax}')\n",
    "axs[0].imshow(fns.reshape((N_plot, N_plot)), label='real', extent=[-1, 1, -1, 1])\n",
    "axs[1].imshow(recomp.reshape((N_plot, N_plot)), label='recomp', extent=[-1, 1, -1, 1])\n",
    "axs[2].imshow(coeffs[::-1,:], extent=[0, Nmax, 0, Nmax])\n",
    "plt.show()\n",
    "########################\n",
    "fig, axs = plt.subplots(5, 6, figsize=(18,18))\n",
    "axs = axs.flatten()\n",
    "for sqrt_n_components in range(29):\n",
    "    ## # Don't need to retrain the pipe every time, just use the first n.\n",
    "    pca = PCA(n_components=sqrt_n_components**2, random_state=42)\n",
    "    pca_only_pipe = Pipeline([('scaler', StandardScaler()), ('pca', pca)])\n",
    "    pca_only_pipe.fit(X_train)\n",
    "    pca_fit = pca_only_pipe.transform(to_fit.reshape((1,-1)))\n",
    "    pca_inv_fit = pca_only_pipe.inverse_transform(pca_fit).reshape((28,28))\n",
    "    #fig, axs = plt.subplots(1, 3, figsize=(18,6))\n",
    "    axs[sqrt_n_components].set_title(f'PCA {sqrt_n_components**2}')\n",
    "    #axs[0].imshow(to_fit, label='real', extent=[-1, 1, -1, 1])\n",
    "    axs[sqrt_n_components].imshow(pca_inv_fit, label='recomp', extent=[-1, 1, -1, 1])\n",
    "    #axs[2].imshow(pca_fit.reshape((28,28))[::-1,:], extent=[0, Nmax, 0, Nmax])\n",
    "    print(sqrt_n_components, end='\\t', flush=True)\n",
    "    axs[sqrt_n_components].axis('off')\n",
    "print('')\n",
    "axs[-1].axis('off')\n",
    "axs[-1].imshow(to_fit, label='recomp', extent=[-1, 1, -1, 1])\n",
    "plt.tight_layout()\n",
    "plt.show()"
   ]
  },
  {
   "cell_type": "markdown",
   "id": "adult-smell",
   "metadata": {},
   "source": [
    "What does the distribution of coefficients look like?"
   ]
  },
  {
   "cell_type": "code",
   "execution_count": null,
   "id": "dental-algorithm",
   "metadata": {
    "jupyter": {
     "source_hidden": true
    }
   },
   "outputs": [],
   "source": [
    "#print(coeffs[:3,:3])\n",
    "#print(coeffs[-3:,-3:])\n",
    "N_plot = 101\n",
    "ps = np.linspace(-1, 1, N_plot, endpoint=True)\n",
    "xs, ys = np.meshgrid(ps, ps)[0].flatten(), np.meshgrid(ps, ps)[1].flatten()\n",
    "Nmax_plot = 7\n",
    "fig, axs = plt.subplots(Nmax_plot, Nmax_plot, figsize=(6,6))\n",
    "for n1 in range(Nmax_plot):\n",
    "    temp = eval_legendre(n1, xs)*np.sqrt(n1+0.5)\n",
    "    for n2 in range(Nmax_plot):\n",
    "        temp2 = temp*eval_legendre(n2, ys)*np.sqrt(n2+0.5)\n",
    "        #axs[n1][n2].set_title(f'{n1}, {n2}')\n",
    "        axs[n1][n2].imshow(temp2.reshape((N_plot,N_plot)))\n",
    "        axs[n1][n2].axis('off')\n",
    "plt.tight_layout()\n",
    "plt.show()"
   ]
  },
  {
   "cell_type": "code",
   "execution_count": null,
   "id": "rational-reading",
   "metadata": {},
   "outputs": [],
   "source": []
  }
 ],
 "metadata": {
  "kernelspec": {
   "display_name": "Python 3",
   "language": "python",
   "name": "python3"
  },
  "language_info": {
   "codemirror_mode": {
    "name": "ipython",
    "version": 3
   },
   "file_extension": ".py",
   "mimetype": "text/x-python",
   "name": "python",
   "nbconvert_exporter": "python",
   "pygments_lexer": "ipython3",
   "version": "3.8.10"
  }
 },
 "nbformat": 4,
 "nbformat_minor": 5
}
